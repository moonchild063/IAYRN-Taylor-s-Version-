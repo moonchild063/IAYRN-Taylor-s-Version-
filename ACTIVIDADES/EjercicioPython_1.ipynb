{
  "nbformat": 4,
  "nbformat_minor": 0,
  "metadata": {
    "colab": {
      "provenance": []
    },
    "kernelspec": {
      "name": "python3",
      "display_name": "Python 3"
    },
    "language_info": {
      "name": "python"
    }
  },
  "cells": [
    {
      "cell_type": "code",
      "execution_count": 52,
      "metadata": {
        "colab": {
          "base_uri": "https://localhost:8080/"
        },
        "id": "hg3bdpd0Pj0o",
        "outputId": "04588303-5098-47fb-fa2e-c3e93eeeeb5d"
      },
      "outputs": [
        {
          "output_type": "stream",
          "name": "stdout",
          "text": [
            "Inserte su nombre por favor... Fabiola\n",
            "Hola, es un gusto Fabiola\n",
            "\n",
            "----> En esta sección, usted podra imprimir una lista de manera invertida\n",
            "Inserte los caracteres separandolos con espacios:manzana fresa pera uva\n",
            "La lista de forma invertida es:\n",
            "avu arep aserf anaznam\n",
            "\n",
            "----> En esta sección, usted podra imprimir la cantidad de numeros que quiera de la serie de Fibonacci\n",
            "¿Cuantos numeros quiere en su serie?: 10\n",
            "0\n",
            "1\n",
            "1\n",
            "2\n",
            "3\n",
            "5\n",
            "8\n",
            "13\n",
            "21\n",
            "34\n"
          ]
        }
      ],
      "source": [
        "#FABIOLA ABIGAIL GRACÍA PÉREZ 1949857 N1 -----------------\n",
        "#------> PEDIR NOMBRE\n",
        "name = input(\"Inserte su nombre por favor... \")\n",
        "if name != 'Ana' and name != 'ana' and name != 'ANA' and name != 'juan' and name != 'Juan' and name != 'JUAN' and name != 'pedro' and name != 'Pedro' and name != 'PEDRO' :\n",
        "  print(\"Hola, es un gusto \" + name)\n",
        "else :\n",
        "  print(\"Lo siento, no tengo permitido saludarte\")\n",
        "\n",
        "#------> LISTA INVERTIDA\n",
        "print(\"\\n----> En esta sección, usted podra imprimir una lista de manera invertida\")\n",
        "lista = input(\"Inserte los caracteres separandolos con espacios:\")\n",
        "LI = lista[::-1]\n",
        "print(\"La lista de forma invertida es:\\n\" + LI)\n",
        "\n",
        "#------> SERIE DE FIBONACCI\n",
        "print(\"\\n----> En esta sección, usted podra imprimir la cantidad de numeros que quiera de la serie de Fibonacci\")\n",
        "n = int(input(\"¿Cuantos numeros quiere en su serie?: \"))\n",
        "\n",
        "     #se define la funcion para la serie de finbonacci\n",
        "def fib(n):\n",
        "    if n < 2:\n",
        "        return n\n",
        "    else:\n",
        "        #fn = fn-1 + fn-2\n",
        "        return fib(n-1) + fib(n-2)\n",
        "\n",
        "     #se crea un bucle con for y se imprime la serie\n",
        "for x in range(n):\n",
        "    print(fib(x))\n"
      ]
    }
  ]
}